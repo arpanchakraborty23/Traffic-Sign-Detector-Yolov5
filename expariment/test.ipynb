{
 "cells": [
  {
   "cell_type": "code",
   "execution_count": 14,
   "metadata": {},
   "outputs": [
    {
     "name": "stdout",
     "output_type": "stream",
     "text": [
      "Error: Unable to read frame from the camera.\n"
     ]
    },
    {
     "ename": "error",
     "evalue": "OpenCV(4.10.0) D:\\a\\opencv-python\\opencv-python\\opencv\\modules\\highgui\\src\\window.cpp:1295: error: (-2:Unspecified error) The function is not implemented. Rebuild the library with Windows, GTK+ 2.x or Cocoa support. If you are on Ubuntu or Debian, install libgtk2.0-dev and pkg-config, then re-run cmake or configure script in function 'cvDestroyAllWindows'\n",
     "output_type": "error",
     "traceback": [
      "\u001b[1;31m---------------------------------------------------------------------------\u001b[0m",
      "\u001b[1;31merror\u001b[0m                                     Traceback (most recent call last)",
      "Cell \u001b[1;32mIn[14], line 37\u001b[0m\n\u001b[0;32m     35\u001b[0m \u001b[38;5;66;03m# Release resources\u001b[39;00m\n\u001b[0;32m     36\u001b[0m cap\u001b[38;5;241m.\u001b[39mrelease()\n\u001b[1;32m---> 37\u001b[0m \u001b[43mcv2\u001b[49m\u001b[38;5;241;43m.\u001b[39;49m\u001b[43mdestroyAllWindows\u001b[49m\u001b[43m(\u001b[49m\u001b[43m)\u001b[49m\n",
      "\u001b[1;31merror\u001b[0m: OpenCV(4.10.0) D:\\a\\opencv-python\\opencv-python\\opencv\\modules\\highgui\\src\\window.cpp:1295: error: (-2:Unspecified error) The function is not implemented. Rebuild the library with Windows, GTK+ 2.x or Cocoa support. If you are on Ubuntu or Debian, install libgtk2.0-dev and pkg-config, then re-run cmake or configure script in function 'cvDestroyAllWindows'\n"
     ]
    }
   ],
   "source": [
    "from ultralytics import YOLO\n",
    "import cv2\n",
    "\n",
    "# Load the pretrained model\n",
    "model = YOLO(r'E:\\Traffic-Sign-Detector-Yolov5\\Artifacts\\model_training\\model.pt')\n",
    "\n",
    "# Open the camera (use 0 for the default camera)\n",
    "cap = cv2.VideoCapture(0)\n",
    "\n",
    "# Check if the camera opened successfully\n",
    "if not cap.isOpened():\n",
    "    print(\"Error: Cannot access the camera.\")\n",
    "    exit()\n",
    "\n",
    "# Read and process camera frames\n",
    "while True:\n",
    "    ret, frame = cap.read()\n",
    "    if not ret:\n",
    "        print(\"Error: Unable to read frame from the camera.\")\n",
    "        break\n",
    "\n",
    "    # Perform object tracking\n",
    "    results = model.track(source=frame, persist=True)\n",
    "\n",
    "    # Plot results on the frame\n",
    "    frame_with_boxes = results[0].plot()\n",
    "\n",
    "    # Visualize the results\n",
    "    cv2.imshow('YOLOv8 Real-Time Object Tracking', frame_with_boxes)\n",
    "\n",
    "    # Break the loop on pressing 'q'\n",
    "    if cv2.waitKey(1) & 0xFF == ord('q'):\n",
    "        break\n",
    "\n",
    "# Release resources\n",
    "cap.release()\n",
    "cv2.destroyAllWindows()\n"
   ]
  },
  {
   "cell_type": "code",
   "execution_count": 16,
   "metadata": {},
   "outputs": [
    {
     "name": "stdout",
     "output_type": "stream",
     "text": [
      "\n",
      "image 1/1 E:\\Traffic-Sign-Detector-Yolov5\\Artifacts\\data_ingestion\\ingested\\train\\images\\20240429_115215_jpg.rf.c80b1a5f75b69234269a7527ce878782.jpg: 640x640 1 Curva y Contracurva Derecha, 1 Curva y Contracurva Izquierda, 574.7ms\n",
      "Speed: 31.0ms preprocess, 574.7ms inference, 52.6ms postprocess per image at shape (1, 3, 640, 640)\n",
      "Ultralytics 8.3.49  Python-3.11.0 torch-2.5.1+cpu CPU (AMD Ryzen 5 3500U with Radeon Vega Mobile Gfx)\n",
      "\n",
      "\u001b[34m\u001b[1mPyTorch:\u001b[0m starting from 'E:\\Traffic-Sign-Detector-Yolov5\\Artifacts\\model_training\\model.pt' with input shape (1, 3, 640, 640) BCHW and output shape(s) (1, 14, 8400) (17.7 MB)\n",
      "\n",
      "\u001b[34m\u001b[1mONNX:\u001b[0m starting export with onnx 1.17.0 opset 19...\n",
      "\u001b[34m\u001b[1mONNX:\u001b[0m slimming with onnxslim 0.1.44...\n",
      "\u001b[34m\u001b[1mONNX:\u001b[0m export success  3.9s, saved as 'E:\\Traffic-Sign-Detector-Yolov5\\Artifacts\\model_training\\model.onnx' (35.0 MB)\n",
      "\n",
      "Export complete (4.9s)\n",
      "Results saved to \u001b[1mE:\\Traffic-Sign-Detector-Yolov5\\Artifacts\\model_training\u001b[0m\n",
      "Predict:         yolo predict task=detect model=E:\\Traffic-Sign-Detector-Yolov5\\Artifacts\\model_training\\model.onnx imgsz=640  \n",
      "Validate:        yolo val task=detect model=E:\\Traffic-Sign-Detector-Yolov5\\Artifacts\\model_training\\model.onnx imgsz=640 data=coco.yaml  \n",
      "Visualize:       https://netron.app\n"
     ]
    },
    {
     "data": {
      "text/plain": [
       "'E:\\\\Traffic-Sign-Detector-Yolov5\\\\Artifacts\\\\model_training\\\\model.onnx'"
      ]
     },
     "execution_count": 16,
     "metadata": {},
     "output_type": "execute_result"
    }
   ],
   "source": [
    "from ultralytics import YOLO\n",
    "\n",
    "# Load a model\n",
    "model = YOLO(r'E:\\Traffic-Sign-Detector-Yolov5\\Artifacts\\model_training\\model.pt')  # load a custom model\n",
    "\n",
    "# Predict with the model\n",
    "results = model(r'E:\\Traffic-Sign-Detector-Yolov5\\Artifacts\\data_ingestion\\ingested\\train\\images\\20240429_115215_jpg.rf.c80b1a5f75b69234269a7527ce878782.jpg')  # predict on an image\n",
    "\n",
    "model.export(format=\"onnx\")\n"
   ]
  },
  {
   "cell_type": "code",
   "execution_count": null,
   "metadata": {},
   "outputs": [],
   "source": []
  }
 ],
 "metadata": {
  "kernelspec": {
   "display_name": "od",
   "language": "python",
   "name": "python3"
  },
  "language_info": {
   "codemirror_mode": {
    "name": "ipython",
    "version": 3
   },
   "file_extension": ".py",
   "mimetype": "text/x-python",
   "name": "python",
   "nbconvert_exporter": "python",
   "pygments_lexer": "ipython3",
   "version": "3.11.0"
  }
 },
 "nbformat": 4,
 "nbformat_minor": 2
}
