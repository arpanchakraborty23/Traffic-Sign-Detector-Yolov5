{
 "cells": [
  {
   "cell_type": "code",
   "execution_count": 3,
   "metadata": {},
   "outputs": [
    {
     "name": "stdout",
     "output_type": "stream",
     "text": [
      "\n",
      "Found https://ultralytics.com/images/bus.jpg locally at bus.jpg\n",
      "image 1/1 e:\\Traffic-Sign-Detector-Yolov5\\expariment\\bus.jpg: 640x480 (no detections), 671.2ms\n",
      "Speed: 12.3ms preprocess, 671.2ms inference, 1.6ms postprocess per image at shape (1, 3, 640, 480)\n",
      "Results saved to \u001b[1mc:\\Users\\www58\\runs\\detect\\predict2\u001b[0m\n",
      "[ultralytics.engine.results.Results object with attributes:\n",
      "\n",
      "boxes: ultralytics.engine.results.Boxes object\n",
      "keypoints: None\n",
      "masks: None\n",
      "names: {0: 'Baden', 1: 'Cruce de Peatones', 2: 'Curva Pronunciada a la Derecha', 3: 'Curva Pronunciada a la Izquierda', 4: 'Curva y Contracurva Derecha', 5: 'Curva y Contracurva Izquierda', 6: 'Doble Circulacion', 7: 'Interseccion Rotatoria', 8: 'Resalto', 9: 'Zona de Derrumbes'}\n",
      "obb: None\n",
      "orig_img: array([[[119, 146, 172],\n",
      "        [121, 148, 174],\n",
      "        [122, 152, 177],\n",
      "        ...,\n",
      "        [161, 171, 188],\n",
      "        [160, 170, 187],\n",
      "        [160, 170, 187]],\n",
      "\n",
      "       [[120, 147, 173],\n",
      "        [122, 149, 175],\n",
      "        [123, 153, 178],\n",
      "        ...,\n",
      "        [161, 171, 188],\n",
      "        [160, 170, 187],\n",
      "        [160, 170, 187]],\n",
      "\n",
      "       [[123, 150, 176],\n",
      "        [124, 151, 177],\n",
      "        [125, 155, 180],\n",
      "        ...,\n",
      "        [161, 171, 188],\n",
      "        [160, 170, 187],\n",
      "        [160, 170, 187]],\n",
      "\n",
      "       ...,\n",
      "\n",
      "       [[183, 182, 186],\n",
      "        [179, 178, 182],\n",
      "        [180, 179, 183],\n",
      "        ...,\n",
      "        [121, 111, 117],\n",
      "        [113, 103, 109],\n",
      "        [115, 105, 111]],\n",
      "\n",
      "       [[165, 164, 168],\n",
      "        [173, 172, 176],\n",
      "        [187, 186, 190],\n",
      "        ...,\n",
      "        [102,  92,  98],\n",
      "        [101,  91,  97],\n",
      "        [103,  93,  99]],\n",
      "\n",
      "       [[123, 122, 126],\n",
      "        [145, 144, 148],\n",
      "        [176, 175, 179],\n",
      "        ...,\n",
      "        [ 95,  85,  91],\n",
      "        [ 96,  86,  92],\n",
      "        [ 98,  88,  94]]], shape=(1080, 810, 3), dtype=uint8)\n",
      "orig_shape: (1080, 810)\n",
      "path: 'e:\\\\Traffic-Sign-Detector-Yolov5\\\\expariment\\\\bus.jpg'\n",
      "probs: None\n",
      "save_dir: 'c:\\\\Users\\\\www58\\\\runs\\\\detect\\\\predict2'\n",
      "speed: {'preprocess': 12.343645095825195, 'inference': 671.1776256561279, 'postprocess': 1.5587806701660156}]\n"
     ]
    }
   ],
   "source": [
    "from ultralytics import YOLO\n",
    "\n",
    "model = YOLO(\"E:\\Traffic-Sign-Detector-Yolov5\\Artifacts\\model_training\\model.pt\")\n",
    "results = model.predict(\"https://ultralytics.com/images/bus.jpg\", save=True)\n",
    "\n",
    "print(results)\n"
   ]
  },
  {
   "cell_type": "code",
   "execution_count": null,
   "metadata": {},
   "outputs": [],
   "source": []
  }
 ],
 "metadata": {
  "kernelspec": {
   "display_name": "od",
   "language": "python",
   "name": "python3"
  },
  "language_info": {
   "codemirror_mode": {
    "name": "ipython",
    "version": 3
   },
   "file_extension": ".py",
   "mimetype": "text/x-python",
   "name": "python",
   "nbconvert_exporter": "python",
   "pygments_lexer": "ipython3",
   "version": "3.11.0"
  }
 },
 "nbformat": 4,
 "nbformat_minor": 2
}
